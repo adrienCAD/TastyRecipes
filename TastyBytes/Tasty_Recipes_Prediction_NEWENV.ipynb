{
 "cells": [
  {
   "cell_type": "markdown",
   "metadata": {},
   "source": [
    "# Predicting Popular Recipes and High Website Traffic on Tasty Bytes\n",
    "\n",
    "Our data science team at Tasty Recipe has been tasked with developing a model that accurately predicts which recipes will be popular 80% of the time, and minimizing the occurrence of showcasing unpopular recipes on Tasty Bytes homepage.\n",
    "\n",
    "More specifically, the challenge is divided into two objectives:\n",
    "- Predict which recipes displayed on the website homepage will lead to high traffic\n",
    "- Correctly predict high traffic recipes 80% of the time\n",
    "\n",
    "The aim of the following project is to leverage the power of machine learning to accurately predict high traffic on our website. We will begin by conducting quality control and validation on the available historical data, followed by exploratory data analysis to gain deeper insights into the data. To handle any missing data, we will perform thorough data pre-processing and cleaning to ensure the reliability and suitability of the data for analysis.\n",
    "\n",
    "Our next step will be to establish a baseline model using a simple algorithm and evaluate its performance compared to random guessing. Then, we will develop a more advanced model to improve the prediction accuracy. We will define clear business metrics to evaluate the performance of our models, and present our findings and conclusions with clear recommendations and next steps for Tasty Bytes data science team to follow. \n",
    "\n",
    "![TastyBytes](TastyBytes.jpeg)\n",
    "\n",
    "**About Tasty Bytes**\n",
    "_Tasty Bytes was founded in 2020 in the midst of the Covid Pandemic. The world wanted inspiration so we decided to provide it. We started life as a search engine for recipes, helping people to find ways to use up the limited supplies they had at home.\n",
    "Now, over two years on, we are a fully fledged business. For a monthly subscription we will put together a full meal plan to ensure you and your family are getting a healthy, balanced diet whatever your budget._\n",
    "(image courtesy of logo.designcrowd.com)"
   ]
  },
  {
   "cell_type": "markdown",
   "metadata": {
    "tags": []
   },
   "source": [
    "## _Task List_\n",
    "\n",
    "Your written report should include both code, output and written text summaries of the following:\n",
    "- Data Validation:   Has validated all variables and where necessary has performed cleaning tasks to result in analysis-ready data [DONE]\n",
    "\n",
    "- Exploratory Analysis:  \n",
    "\t- Has created at least two different visualizations of single variables (e.g. histogram, bar chart, single boxplot) [DONE]\n",
    "\t- Has created at least one visualization including two or more variables (e.g. scatterplot, filled bar chart, multiple boxplots) [DONE]\n",
    "\n",
    "- Model Fitting \n",
    "\t- Correctly identified the type of problem (regression, classification or clustering) [DONE]\n",
    "\t- Has selected and fitted a model for that problem to be used as a baseline [DONE]\n",
    "\t- Has selected and fitted a comparison model for the problem that they were provided [DONE]\n",
    "\t- Code to fit the baseline and comparison models [DONE]\n",
    "\t\n",
    "- Model Evaluation [DONE]\n",
    "\t- Compared the performance of the two models/approaches using any method appropriate to the type of problem [DONE]\n",
    "\t- Has described what the model comparison shows about the selected approaches [DONE]\n",
    "\n",
    "\n",
    "- Business Focus [DONE]\n",
    "\t- Has described at least one of the business goals of the project [DONE]\n",
    "\t- Has explained how their work has addressed the business problem [DONE]\n",
    "\t- Has provided at least one recommendation for future action to be taken based on the outcome of the work done [DONE]\n",
    "\n",
    "\n",
    "- Business Metrics [DONE]\n",
    "\t- Has defined a KPI to compare model performance to business criteria in the problem [DONE]\n",
    "\t- Has compared the performance of the two models/approaches using the defined KPI [DONE]\t\n",
    "\n",
    "- **Communication []**\n",
    "\t- **For each analysis step, has provided a written explanation of their findings and/or reasoning for selecting approaches [DONE]**\n",
    "\t- **Has delivered a verbal presentation addressing the business goals, outcomes and recommendations []**\n",
    "\n",
    "\n"
   ]
  },
  {
   "cell_type": "markdown",
   "metadata": {},
   "source": [
    "# Summary\n",
    "#### 1) Introduction\n",
    "#### 2) Data Validation \n",
    "#### 3) Exploratory Analysis  \n",
    "#### 4) Model Development\n",
    "#### 5) Model Evaluation\n",
    "#### 6) Business Metrics\n",
    "#### 7) Conclusions and Recommenations"
   ]
  },
  {
   "cell_type": "markdown",
   "metadata": {},
   "source": [
    "---\n",
    "# 1. Introduction \n",
    "## Business Question: Can we predict with 80% accuracy which recipes will generate high traffic?\n",
    "\n",
    "Our dataset includes a categorical \"high_traffic\" column and columns with food recipe specifics such as calories, carbohydrate and sugar content in grams, recipe category, and serving size.\n",
    "\n",
    "We will aim to build a binary classification model that predicts whether a recipe will generate high web traffic or not.\n",
    "\n",
    "- Target variable (dependent variable): 'high_traffic'\n",
    "- Features (predictors): food recipe characteristics\n",
    "\n",
    "We will evaluate the dataset's quality, use cleaning and preparation techniques to ensure data quality and analysis readiness. We will perform exploratory analysis to identify trends and insights to better understand our data.\n",
    "\n",
    "To evaluate the model's effectiveness, we will create a baseline prediction algorithm and compare our model's performance to random guessing. We will improve the model's performance using more sophisticated algorithms and feature selection techniques, then apply appropriate business metrics to interpret the final models and draw our conclusions. "
   ]
  },
  {
   "cell_type": "markdown",
   "metadata": {},
   "source": [
    "---\n",
    "# 2. Data Validation\n",
    "\n",
    "In this section, we will validate the quality and accuracy of the data to ensure its readiness for analysis. We will perform a comprehensive examination of each column in the data, checking for any missing or incorrect values (outliers, etc). This will be followed by data cleaning steps to correct and impute missing data.\n",
    "\n",
    "Our goal in this section is to provide a solid data foundation by ensuring their reliability and accuracy, which will enable us to make meaningful predictions and achieve our project objectives.\n"
   ]
  },
  {
   "cell_type": "code",
   "execution_count": 1,
   "metadata": {
    "tags": []
   },
   "outputs": [],
   "source": [
    "# Imports core Python libraries\n",
    "import pandas as pd\n",
    "import numpy as np\n",
    "from pathlib import Path\n",
    "\n",
    "# visualization libraries \n",
    "import matplotlib.pyplot as plt\n",
    "import seaborn as sns\n",
    "\n",
    "# statistical library for p-values calculation\n",
    "from scipy import stats\n",
    "\n",
    "# Machine Learning libraries for fast-track test \n",
    "from sklearn.linear_model import LogisticRegression\n",
    "from sklearn.model_selection import train_test_split\n",
    "from sklearn.metrics import accuracy_score\n",
    "\n",
    "#set random set for reproductability \n",
    "seed = 42 "
   ]
  },
  {
   "cell_type": "markdown",
   "metadata": {},
   "source": [
    "## 2.1 Load the data, and perform first obsvervations"
   ]
  },
  {
   "cell_type": "code",
   "execution_count": 2,
   "metadata": {
    "tags": []
   },
   "outputs": [
    {
     "data": {
      "text/html": [
       "<div>\n",
       "<style scoped>\n",
       "    .dataframe tbody tr th:only-of-type {\n",
       "        vertical-align: middle;\n",
       "    }\n",
       "\n",
       "    .dataframe tbody tr th {\n",
       "        vertical-align: top;\n",
       "    }\n",
       "\n",
       "    .dataframe thead th {\n",
       "        text-align: right;\n",
       "    }\n",
       "</style>\n",
       "<table border=\"1\" class=\"dataframe\">\n",
       "  <thead>\n",
       "    <tr style=\"text-align: right;\">\n",
       "      <th></th>\n",
       "      <th>recipe</th>\n",
       "      <th>calories</th>\n",
       "      <th>carbohydrate</th>\n",
       "      <th>sugar</th>\n",
       "      <th>protein</th>\n",
       "      <th>category</th>\n",
       "      <th>servings</th>\n",
       "      <th>high_traffic</th>\n",
       "    </tr>\n",
       "  </thead>\n",
       "  <tbody>\n",
       "    <tr>\n",
       "      <th>0</th>\n",
       "      <td>1</td>\n",
       "      <td>NaN</td>\n",
       "      <td>NaN</td>\n",
       "      <td>NaN</td>\n",
       "      <td>NaN</td>\n",
       "      <td>Pork</td>\n",
       "      <td>6</td>\n",
       "      <td>High</td>\n",
       "    </tr>\n",
       "    <tr>\n",
       "      <th>1</th>\n",
       "      <td>2</td>\n",
       "      <td>35.48</td>\n",
       "      <td>38.56</td>\n",
       "      <td>0.66</td>\n",
       "      <td>0.92</td>\n",
       "      <td>Potato</td>\n",
       "      <td>4</td>\n",
       "      <td>High</td>\n",
       "    </tr>\n",
       "    <tr>\n",
       "      <th>2</th>\n",
       "      <td>3</td>\n",
       "      <td>914.28</td>\n",
       "      <td>42.68</td>\n",
       "      <td>3.09</td>\n",
       "      <td>2.88</td>\n",
       "      <td>Breakfast</td>\n",
       "      <td>1</td>\n",
       "      <td>NaN</td>\n",
       "    </tr>\n",
       "    <tr>\n",
       "      <th>3</th>\n",
       "      <td>4</td>\n",
       "      <td>97.03</td>\n",
       "      <td>30.56</td>\n",
       "      <td>38.63</td>\n",
       "      <td>0.02</td>\n",
       "      <td>Beverages</td>\n",
       "      <td>4</td>\n",
       "      <td>High</td>\n",
       "    </tr>\n",
       "    <tr>\n",
       "      <th>4</th>\n",
       "      <td>5</td>\n",
       "      <td>27.05</td>\n",
       "      <td>1.85</td>\n",
       "      <td>0.80</td>\n",
       "      <td>0.53</td>\n",
       "      <td>Beverages</td>\n",
       "      <td>4</td>\n",
       "      <td>NaN</td>\n",
       "    </tr>\n",
       "  </tbody>\n",
       "</table>\n",
       "</div>"
      ],
      "text/plain": [
       "   recipe  calories  carbohydrate  sugar  protein   category servings  \\\n",
       "0       1       NaN           NaN    NaN      NaN       Pork        6   \n",
       "1       2     35.48         38.56   0.66     0.92     Potato        4   \n",
       "2       3    914.28         42.68   3.09     2.88  Breakfast        1   \n",
       "3       4     97.03         30.56  38.63     0.02  Beverages        4   \n",
       "4       5     27.05          1.85   0.80     0.53  Beverages        4   \n",
       "\n",
       "  high_traffic  \n",
       "0         High  \n",
       "1         High  \n",
       "2          NaN  \n",
       "3         High  \n",
       "4          NaN  "
      ]
     },
     "execution_count": 2,
     "metadata": {},
     "output_type": "execute_result"
    }
   ],
   "source": [
    "# Load the dataset into a Pandas Dataframe\n",
    "recipe_df = pd.read_csv(Path(\"recipe_site_traffic_2212.csv\"))\n",
    "\n",
    "# Review the DataFrame\n",
    "recipe_df.head()"
   ]
  },
  {
   "cell_type": "code",
   "execution_count": 3,
   "metadata": {
    "tags": []
   },
   "outputs": [],
   "source": [
    "# define recipe as index for the dataframa and rename and sort index\n",
    "recipe_df = recipe_df.set_index(\"recipe\")\n",
    "recipe_df.index.name = \"recipe_id\"\n",
    "recipe_df = recipe_df.sort_index()"
   ]
  },
  {
   "cell_type": "code",
   "execution_count": 4,
   "metadata": {
    "tags": []
   },
   "outputs": [
    {
     "data": {
      "text/html": [
       "<div>\n",
       "<style scoped>\n",
       "    .dataframe tbody tr th:only-of-type {\n",
       "        vertical-align: middle;\n",
       "    }\n",
       "\n",
       "    .dataframe tbody tr th {\n",
       "        vertical-align: top;\n",
       "    }\n",
       "\n",
       "    .dataframe thead th {\n",
       "        text-align: right;\n",
       "    }\n",
       "</style>\n",
       "<table border=\"1\" class=\"dataframe\">\n",
       "  <thead>\n",
       "    <tr style=\"text-align: right;\">\n",
       "      <th></th>\n",
       "      <th>calories</th>\n",
       "      <th>carbohydrate</th>\n",
       "      <th>sugar</th>\n",
       "      <th>protein</th>\n",
       "    </tr>\n",
       "  </thead>\n",
       "  <tbody>\n",
       "    <tr>\n",
       "      <th>count</th>\n",
       "      <td>895.000000</td>\n",
       "      <td>895.000000</td>\n",
       "      <td>895.000000</td>\n",
       "      <td>895.000000</td>\n",
       "    </tr>\n",
       "    <tr>\n",
       "      <th>mean</th>\n",
       "      <td>435.939196</td>\n",
       "      <td>35.069676</td>\n",
       "      <td>9.046547</td>\n",
       "      <td>24.149296</td>\n",
       "    </tr>\n",
       "    <tr>\n",
       "      <th>std</th>\n",
       "      <td>453.020997</td>\n",
       "      <td>43.949032</td>\n",
       "      <td>14.679176</td>\n",
       "      <td>36.369739</td>\n",
       "    </tr>\n",
       "    <tr>\n",
       "      <th>min</th>\n",
       "      <td>0.140000</td>\n",
       "      <td>0.030000</td>\n",
       "      <td>0.010000</td>\n",
       "      <td>0.000000</td>\n",
       "    </tr>\n",
       "    <tr>\n",
       "      <th>25%</th>\n",
       "      <td>110.430000</td>\n",
       "      <td>8.375000</td>\n",
       "      <td>1.690000</td>\n",
       "      <td>3.195000</td>\n",
       "    </tr>\n",
       "    <tr>\n",
       "      <th>50%</th>\n",
       "      <td>288.550000</td>\n",
       "      <td>21.480000</td>\n",
       "      <td>4.550000</td>\n",
       "      <td>10.800000</td>\n",
       "    </tr>\n",
       "    <tr>\n",
       "      <th>75%</th>\n",
       "      <td>597.650000</td>\n",
       "      <td>44.965000</td>\n",
       "      <td>9.800000</td>\n",
       "      <td>30.200000</td>\n",
       "    </tr>\n",
       "    <tr>\n",
       "      <th>max</th>\n",
       "      <td>3633.160000</td>\n",
       "      <td>530.420000</td>\n",
       "      <td>148.750000</td>\n",
       "      <td>363.360000</td>\n",
       "    </tr>\n",
       "  </tbody>\n",
       "</table>\n",
       "</div>"
      ],
      "text/plain": [
       "          calories  carbohydrate       sugar     protein\n",
       "count   895.000000    895.000000  895.000000  895.000000\n",
       "mean    435.939196     35.069676    9.046547   24.149296\n",
       "std     453.020997     43.949032   14.679176   36.369739\n",
       "min       0.140000      0.030000    0.010000    0.000000\n",
       "25%     110.430000      8.375000    1.690000    3.195000\n",
       "50%     288.550000     21.480000    4.550000   10.800000\n",
       "75%     597.650000     44.965000    9.800000   30.200000\n",
       "max    3633.160000    530.420000  148.750000  363.360000"
      ]
     },
     "execution_count": 4,
     "metadata": {},
     "output_type": "execute_result"
    }
   ],
   "source": [
    "# examine the statistical distribution of the values within the dataframe columns\n",
    "recipe_df.describe()"
   ]
  },
  {
   "cell_type": "code",
   "execution_count": 5,
   "metadata": {
    "tags": []
   },
   "outputs": [
    {
     "name": "stdout",
     "output_type": "stream",
     "text": [
      "<class 'pandas.core.frame.DataFrame'>\n",
      "Int64Index: 947 entries, 1 to 947\n",
      "Data columns (total 7 columns):\n",
      " #   Column        Non-Null Count  Dtype  \n",
      "---  ------        --------------  -----  \n",
      " 0   calories      895 non-null    float64\n",
      " 1   carbohydrate  895 non-null    float64\n",
      " 2   sugar         895 non-null    float64\n",
      " 3   protein       895 non-null    float64\n",
      " 4   category      947 non-null    object \n",
      " 5   servings      947 non-null    object \n",
      " 6   high_traffic  574 non-null    object \n",
      "dtypes: float64(4), object(3)\n",
      "memory usage: 59.2+ KB\n"
     ]
    }
   ],
   "source": [
    "# check the datatypes of the column and count of missing values for each column\n",
    "recipe_df.info()"
   ]
  },
  {
   "cell_type": "code",
   "execution_count": 6,
   "metadata": {
    "tags": []
   },
   "outputs": [
    {
     "data": {
      "image/png": "[encoded data removed]",
      "text/plain": [
       "<Figure size 640x480 with 1 Axes>"
      ]
     },
     "metadata": {},
     "output_type": "display_data"
    }
   ],
   "source": [
    "# check for missing values with a bar chart\n",
    "recipe_df.isnull().sum().plot(kind='bar', color = 'red')\n",
    "\n",
    "# Add a title and axis labels\n",
    "plt.title('Missing Values in our dataset')\n",
    "plt.xlabel('Column Names')\n",
    "plt.ylabel('# of Missing Values')\n",
    "\n",
    "plt.show()"
   ]
  },
  {
   "cell_type": "markdown",
   "metadata": {},
   "source": [
    "The dataset consists of 7 columns and 947 rows, including numerical (float64) and categorical (object) data types. \n",
    "- The 4 numerical columns have 52 missing values (approx. 5%) \n",
    "- 2 of the categorical columns do not have any missing values at all : 'category' and 'servings'. \n",
    "- The 'high_traffic' categorical column has 373 missing values (approx. 39%)."
   ]
  },
  {
   "cell_type": "markdown",
   "metadata": {},
   "source": [
    "#### Histograms of the numerical data columns"
   ]
  },
  {
   "cell_type": "code",
   "execution_count": 7,
   "metadata": {
    "tags": []
   },
   "outputs": [
    {
     "data": {
      "image/png": "[encoded data removed]",
      "text/plain": [
       "<Figure size 640x480 with 1 Axes>"
      ]
     },
     "metadata": {},
     "output_type": "display_data"
    },
    {
     "data": {
      "image/png": "[encoded data removed]",
      "text/plain": [
       "<Figure size 640x480 with 1 Axes>"
      ]
     },
     "metadata": {},
     "output_type": "display_data"
    },
    {
     "data": {
      "image/png": "[encoded data removed]",
      "text/plain": [
       "<Figure size 640x480 with 1 Axes>"
      ]
     },
     "metadata": {},
     "output_type": "display_data"
    },
    {
     "data": {
      "image/png": "[encoded data removed]",
      "text/plain": [
       "<Figure size 640x480 with 1 Axes>"
      ]
     },
     "metadata": {},
     "output_type": "display_data"
    },
    {
     "data": {
      "image/png": "[encoded data removed]",
      "text/plain": [
       "<Figure size 640x480 with 1 Axes>"
      ]
     },
     "metadata": {},
     "output_type": "display_data"
    },
    {
     "data": {
      "image/png": "[encoded data removed]",
      "text/plain": [
       "<Figure size 640x480 with 1 Axes>"
      ]
     },
     "metadata": {},
     "output_type": "display_data"
    }
   ],
   "source": [
    "# Identify the numerical columns\n",
    "num_columns =('calories','carbohydrate','sugar','protein','servings','high_traffic')\n",
    "\n",
    "# Plot an histogram for each one of the numerical columns\n",
    "for column in num_columns:\n",
    "    plt.figure()\n",
    "    sns.histplot(data=recipe_df, x=column)\n",
    "    plt.show()"
   ]
  },
  {
   "cell_type": "markdown",
   "metadata": {},
   "source": [
    "#### Pie chart of the categorical columns"
   ]
  },
  {
   "cell_type": "code",
   "execution_count": 8,
   "metadata": {
    "tags": []
   },
   "outputs": [
    {
     "data": {
      "image/png": "[encoded data removed]",
      "text/plain": [
       "<Figure size 640x480 with 1 Axes>"
      ]
     },
     "metadata": {},
     "output_type": "display_data"
    }
   ],
   "source": [
    "# Count the occurrences of each category\n",
    "category_counts = recipe_df['category'].value_counts()\n",
    "\n",
    "# Plot the pie chart\n",
    "plt.pie(category_counts, labels=category_counts.index, startangle=90, autopct='%1.1f%%')\n",
    "\n",
    "# Set the title\n",
    "plt.title(\"Percentage of Recipes by Category\")\n",
    "\n",
    "# Show the plot\n",
    "plt.show()"
   ]
  },
  {
   "cell_type": "markdown",
   "metadata": {},
   "source": [
    "### First Observations\n",
    "- The columns in the dataset include: calories, macro-nutrient content (protein, sugar and carbs), number of servings, and category.\n",
    "- The dataset contains missing values, with 5.5% of the macro-nutrient data (protein and carbs in grams) missing and 39.3% of the Traffic data missing.\n",
    "- Despite the limited information on macro-nutrients (carb, sugar, and protein only), we have the information on total calories, which may allow us to estimate fat content.\n",
    "- There are no negative values in the macro-nutrient columns, and it is reasonable to expect that these values can start from zero, as it is common to see recipes with low carb content or low sugar.\n",
    "- The data provides more than 900 observations, making it suitable for a machine learning workflow.\n",
    "\n",
    "### Assumptions and path forward workflow: \n",
    "- To interpret the traffic data, we will use the 'high_traffic' column, assuming that a value of 'High' indicates confirmed high web traffic when a particular recipe was published on the Tasty Bytes website homepage. Any non-data values in the 'high_traffic' column will be categorized as 'Other'. Although we lack information on whether 'Other' corresponds to high or low traffic, it is reasonable to assume that the 'High' labeled recipes are the most popular, given the context.\"\n",
    "\n",
    "- To handle the skewed distribution and outliers in the data, we can use various preprocessing techniques such as scaling, transforming, or removing outliers before building a predictive model.\n",
    "- The 'category' column is comprised of 11 unique labels, well-balanced, with each label representing between 7.5% and 11.2% of the available observations in the historical dataset. We will merge the instances with \"Chicken Breast\" with \"Chicken\" to simplify the categories. \n",
    "\n",
    "**--> Based on the above asumptions, our historical dataset contains 574 cases of 'High' traffic and over 400 cases of 'Other' traffic, making it suitable for performning binary classification using machine learning.**\n",
    "\n"
   ]
  },
  {
   "cell_type": "markdown",
   "metadata": {},
   "source": [
    "--- \n",
    "## 2.2 Data Preprocessing and QC\n",
    "Before building our binary classification model to predict instances of high traffic for Tasty Bytes recipes, we need to ensure the data is reliable and suitable for analysis. We will preprocess and perform quality control on each column using the following steps:\n",
    "\n",
    "- Identify and address missing or invalid values in the column.\n",
    "- Impute missing values for columns with a high proportion of missing data using an appropriate imputation technique.\n",
    "- Transform the data to meet the assumptions necessary for statistical analysis, such as normality, linearity, and equal variance.\n",
    "- Identify and handle outliers using appropriate methods, such as removal or transformation, to avoid bias in the data.\n",
    "\n",
    "### Handling the non-data values in the 'high_traffic' column.\n",
    "Before building our binary classification model to predict instances of high traffic for Tasty Bytes recipes, we need to handle the non-data values in the 'high_traffic' column.\n",
    "\n",
    "We will assign a value of 1 to all cases labeled as 'High', indicating that these recipes generated high traffic.\n",
    "For missing values labeled as 'Other', we will encode them as 0. These cases correspond to recipes for which the actual traffic is unknown and could be either high or low.\n",
    "Our goal is to build a highly accurate binary classification model that predicts high traffic for Tasty Bytes recipes using the following values:\n",
    "\n",
    "- 0: Unknown traffic (could be high or low)\n",
    "- 1: High traffic."
   ]
  },
  {
   "cell_type": "code",
   "execution_count": 9,
   "metadata": {
    "tags": []
   },
   "outputs": [],
   "source": [
    "qc_recipe_df = recipe_df\n",
    "\n",
    "# Replace all null values in column 'High_Traffic' with 0\n",
    "qc_recipe_df['high_traffic'].fillna(0, inplace=True)\n",
    "\n",
    "# Replace all 'High' values in column 'High_Traffic' with 1\n",
    "qc_recipe_df['high_traffic'] = qc_recipe_df['high_traffic'].replace('High', 1)"
   ]
  },
  {
   "cell_type": "markdown",
   "metadata": {},
   "source": [
    "### Columns Renaming "
   ]
  },
  {
   "cell_type": "code",
   "execution_count": 10,
   "metadata": {
    "tags": []
   },
   "outputs": [
    {
     "data": {
      "text/plain": [
       "array(['Pork', 'Potato', 'Breakfast', 'Beverages', 'One Dish Meal',\n",
       "       'Chicken Breast', 'Lunch/Snacks', 'Chicken', 'Vegetable', 'Meat',\n",
       "       'Dessert'], dtype=object)"
      ]
     },
     "execution_count": 10,
     "metadata": {},
     "output_type": "execute_result"
    }
   ],
   "source": [
    "# Displaying the unique values of the column \"category\". \n",
    "qc_recipe_df['category'].unique()\n"
   ]
  },
  {
   "cell_type": "code",
   "execution_count": 11,
   "metadata": {
    "tags": []
   },
   "outputs": [],
   "source": [
    "# naming best pratice: replace \"Lunch/Snacks\" value in \"category\" column by \"Lunch_Snacks\" and replace spaces and slashes by \"_\" \n",
    "qc_recipe_df['category'] = qc_recipe_df['category'].replace('Lunch/Snacks', 'Lunch_Snacks')\n",
    "qc_recipe_df['category'] = qc_recipe_df['category'].replace('One Dish Meal', 'One_Dish_Meal')\n",
    "\n",
    "# merging together categories that describe the same category of food\n",
    "qc_recipe_df['category'] = qc_recipe_df['category'].replace('Chicken Breast', 'Chicken')\n",
    "#qc_recipe_df['category'] = qc_recipe_df['category'].replace('Potato', 'Vegetable')"
   ]
  },
  {
   "cell_type": "code",
   "execution_count": 12,
   "metadata": {
    "tags": []
   },
   "outputs": [
    {
     "data": {
      "text/plain": [
       "array(['6', '4', '1', '2', '4 as a snack', '6 as a snack'], dtype=object)"
      ]
     },
     "execution_count": 12,
     "metadata": {},
     "output_type": "execute_result"
    }
   ],
   "source": [
    "# check value of servings \n",
    "qc_recipe_df['servings'].unique()"
   ]
  },
  {
   "cell_type": "markdown",
   "metadata": {},
   "source": [
    "The 'servings' column appear as being a categorical one. Nonetheless most of its values are numerical, and some of them that are text could be easily converted to a number. For instance converting '4 as a snack' as 4 (number four). \n",
    "\n",
    "But what does '4 as a snack' really means?\n",
    "\n",
    "#### Understanding what \"as a snack\" means in the servings size"
   ]
  },
  {
   "cell_type": "code",
   "execution_count": 13,
   "metadata": {
    "tags": []
   },
   "outputs": [],
   "source": [
    "# let's understand what are the '6' servings and '6 as a snack' to understand better what '6 as a snack' means\n",
    "serving6mean_df =  qc_recipe_df.loc[qc_recipe_df['servings']=='6'][['calories','carbohydrate','sugar','protein']].mean()\n",
    "serving4mean_df =  qc_recipe_df.loc[qc_recipe_df['servings']=='4'][['calories','carbohydrate','sugar','protein']].mean()\n",
    "serving6snack_df=  qc_recipe_df.loc[qc_recipe_df['servings']=='6 as a snack']\n",
    "serving4snack_df=  qc_recipe_df.loc[qc_recipe_df['servings']=='4 as a snack']"
   ]
  },
  {
   "cell_type": "code",
   "execution_count": 14,
   "metadata": {
    "tags": []
   },
   "outputs": [
    {
     "data": {
      "text/html": [
       "<div>\n",
       "<style scoped>\n",
       "    .dataframe tbody tr th:only-of-type {\n",
       "        vertical-align: middle;\n",
       "    }\n",
       "\n",
       "    .dataframe tbody tr th {\n",
       "        vertical-align: top;\n",
       "    }\n",
       "\n",
       "    .dataframe thead th {\n",
       "        text-align: right;\n",
       "    }\n",
       "</style>\n",
       "<table border=\"1\" class=\"dataframe\">\n",
       "  <thead>\n",
       "    <tr style=\"text-align: right;\">\n",
       "      <th></th>\n",
       "      <th>calories</th>\n",
       "      <th>carbohydrate</th>\n",
       "      <th>sugar</th>\n",
       "      <th>protein</th>\n",
       "      <th>category</th>\n",
       "      <th>servings</th>\n",
       "      <th>high_traffic</th>\n",
       "    </tr>\n",
       "    <tr>\n",
       "      <th>recipe_id</th>\n",
       "      <th></th>\n",
       "      <th></th>\n",
       "      <th></th>\n",
       "      <th></th>\n",
       "      <th></th>\n",
       "      <th></th>\n",
       "      <th></th>\n",
       "    </tr>\n",
       "  </thead>\n",
       "  <tbody>\n",
       "    <tr>\n",
       "      <th>549</th>\n",
       "      <td>1,440.69</td>\n",
       "      <td>30.59</td>\n",
       "      <td>5.78</td>\n",
       "      <td>30.63</td>\n",
       "      <td>Lunch_Snacks</td>\n",
       "      <td>6 as a snack</td>\n",
       "      <td>1</td>\n",
       "    </tr>\n",
       "  </tbody>\n",
       "</table>\n",
       "</div>"
      ],
      "text/plain": [
       "           calories  carbohydrate  sugar  protein      category      servings  \\\n",
       "recipe_id                                                                       \n",
       "549        1,440.69         30.59   5.78    30.63  Lunch_Snacks  6 as a snack   \n",
       "\n",
       "           high_traffic  \n",
       "recipe_id                \n",
       "549                   1  "
      ]
     },
     "metadata": {},
     "output_type": "display_data"
    },
    {
     "data": {
      "text/plain": [
       "calories       419.13\n",
       "carbohydrate    32.38\n",
       "sugar            8.64\n",
       "protein         24.60\n",
       "dtype: float64"
      ]
     },
     "metadata": {},
     "output_type": "display_data"
    },
    {
     "data": {
      "text/html": [
       "<div>\n",
       "<style scoped>\n",
       "    .dataframe tbody tr th:only-of-type {\n",
       "        vertical-align: middle;\n",
       "    }\n",
       "\n",
       "    .dataframe tbody tr th {\n",
       "        vertical-align: top;\n",
       "    }\n",
       "\n",
       "    .dataframe thead th {\n",
       "        text-align: right;\n",
       "    }\n",
       "</style>\n",
       "<table border=\"1\" class=\"dataframe\">\n",
       "  <thead>\n",
       "    <tr style=\"text-align: right;\">\n",
       "      <th></th>\n",
       "      <th>calories</th>\n",
       "      <th>carbohydrate</th>\n",
       "      <th>sugar</th>\n",
       "      <th>protein</th>\n",
       "      <th>category</th>\n",
       "      <th>servings</th>\n",
       "      <th>high_traffic</th>\n",
       "    </tr>\n",
       "    <tr>\n",
       "      <th>recipe_id</th>\n",
       "      <th></th>\n",
       "      <th></th>\n",
       "      <th></th>\n",
       "      <th></th>\n",
       "      <th></th>\n",
       "      <th></th>\n",
       "      <th></th>\n",
       "    </tr>\n",
       "  </thead>\n",
       "  <tbody>\n",
       "    <tr>\n",
       "      <th>452</th>\n",
       "      <td>1,542.53</td>\n",
       "      <td>14.73</td>\n",
       "      <td>5.71</td>\n",
       "      <td>29.92</td>\n",
       "      <td>Lunch_Snacks</td>\n",
       "      <td>4 as a snack</td>\n",
       "      <td>1</td>\n",
       "    </tr>\n",
       "    <tr>\n",
       "      <th>736</th>\n",
       "      <td>513.75</td>\n",
       "      <td>65.87</td>\n",
       "      <td>18.63</td>\n",
       "      <td>18.39</td>\n",
       "      <td>Lunch_Snacks</td>\n",
       "      <td>4 as a snack</td>\n",
       "      <td>0</td>\n",
       "    </tr>\n",
       "  </tbody>\n",
       "</table>\n",
       "</div>"
      ],
      "text/plain": [
       "           calories  carbohydrate  sugar  protein      category      servings  \\\n",
       "recipe_id                                                                       \n",
       "452        1,542.53         14.73   5.71    29.92  Lunch_Snacks  4 as a snack   \n",
       "736          513.75         65.87  18.63    18.39  Lunch_Snacks  4 as a snack   \n",
       "\n",
       "           high_traffic  \n",
       "recipe_id                \n",
       "452                   1  \n",
       "736                   0  "
      ]
     },
     "metadata": {},
     "output_type": "display_data"
    },
    {
     "data": {
      "text/plain": [
       "calories       423.05\n",
       "carbohydrate    36.08\n",
       "sugar            9.15\n",
       "protein         22.54\n",
       "dtype: float64"
      ]
     },
     "metadata": {},
     "output_type": "display_data"
    }
   ],
   "source": [
    "pd.options.display.float_format = '{:,.2f}'.format\n",
    "display(serving6snack_df)\n",
    "display(serving6mean_df)\n",
    "display(serving4snack_df)\n",
    "display(serving4mean_df)"
   ]
  },
  {
   "cell_type": "markdown",
   "metadata": {},
   "source": [
    "We found only a few entries with the 'as a snack' suffix in the 'servings' column. Based on our analysis of the corresponding calorie count, it seems reasonable to assume that these entries represent a single serving with an estimated calorie count between 125 and 400. The macro-nutrient content (carb, sugar, protein) is also consistent with the averages observed in other entries with 4 or 6 servings. \n",
    "\n",
    "**--> Therefore, we will remove the 'as a snack' suffix and convert the 'servings' column to numerical.**"
   ]
  },
  {
   "cell_type": "code",
   "execution_count": 15,
   "metadata": {
    "tags": []
   },
   "outputs": [
    {
     "name": "stdout",
     "output_type": "stream",
     "text": [
      "<class 'pandas.core.frame.DataFrame'>\n",
      "Int64Index: 947 entries, 1 to 947\n",
      "Data columns (total 7 columns):\n",
      " #   Column        Non-Null Count  Dtype  \n",
      "---  ------        --------------  -----  \n",
      " 0   calories      895 non-null    float64\n",
      " 1   carbohydrate  895 non-null    float64\n",
      " 2   sugar         895 non-null    float64\n",
      " 3   protein       895 non-null    float64\n",
      " 4   category      947 non-null    object \n",
      " 5   servings      947 non-null    int64  \n",
      " 6   high_traffic  947 non-null    int64  \n",
      "dtypes: float64(4), int64(2), object(1)\n",
      "memory usage: 59.2+ KB\n"
     ]
    }
   ],
   "source": [
    "# lets remove ' as a snack' string from the column values for 'servings'\n",
    "qc_recipe_df[\"servings\"] = qc_recipe_df[\"servings\"].str.replace(\" as a snack\", \"\")\n",
    "\n",
    "# make sure that the values in the 'servings' column are numeric\n",
    "qc_recipe_df[\"servings\"] = pd.to_numeric(qc_recipe_df[\"servings\"], errors='coerce')\n",
    "\n",
    "qc_recipe_df.info()"
   ]
  },
  {
   "cell_type": "markdown",
   "metadata": {},
   "source": [
    "### Are the numerical features statistically significant? \n",
    "We will perform a statistical test to determine the significance of the numerical features."
   ]
  },
  {
   "cell_type": "code",
   "execution_count": 19,
   "metadata": {},
   "outputs": [
    {
     "name": "stdout",
     "output_type": "stream",
     "text": [
      "calories: 0.026065982071963825\n",
      "carbohydrate: 0.015444390210209737\n",
      "sugar: 0.023847573817120195\n",
      "protein: 0.1827526942342248\n",
      "servings: 0.1963318117952701\n"
     ]
    }
   ],
   "source": [
    "pvalue_df = qc_recipe_df.dropna()\n",
    "\n",
    "# Store the names of the columns in a list\n",
    "column_names = ['calories','carbohydrate','sugar','protein','servings']\n",
    "\n",
    "# Define features set and target vector \n",
    "X_pv = pvalue_df[column_names]\n",
    "#X = pvalue_df.drop(columns=['high_traffic','category']).astype(float)\n",
    "y_pv = pvalue_df['high_traffic'].astype(float)\n",
    "\n",
    "# Loop through each column\n",
    "for column in column_names:\n",
    "    # Get the p-value for the column\n",
    "    p_value = stats.pearsonr(pvalue_df[column], pvalue_df['high_traffic'])[1]\n",
    "    \n",
    "    # Print the column name and its corresponding p-value\n",
    "    print(f\"{column}: {p_value}\")"
   ]
  },
  {
   "cell_type": "markdown",
   "metadata": {},
   "source": [
    "### Rejecting the null hypothesis for 'calories', 'carbohydate' and 'sugar'\n",
    "\n",
    "For calories, carb and sugar, the p-value are less than 0.05, which means that the likelihood of the result being due to chance is low, and that the null hypothesis that there is no relationship between the feature and the target vector can therefore be rejected. \n",
    "\n",
    "In other words, the results of the statistical tests for the features calories, carb, and sugar indicate a strong relationship between these variables and the target vector 'high_traffic'. \n",
    "\n",
    "**'calories', 'carbohydate' and 'sugar' are statistically significant, and we can expect them play a role in predicting the value of 'high_traffic'.** "
   ]
  },
  {
   "cell_type": "markdown",
   "metadata": {},
   "source": [
    "### Quick Fast Track Predictive Model - Logistic Regression\n",
    "To build a fast-track model, we have selected only the statistically significant predictors indentified so far : 'calories', 'carbohydrates', and 'sugar'. We will use these features to train a simple classification model using logistic regression, and assess its accuracy. The aim is to determine whether the model can outperform random guessing; even a slight improvement above random guessing (50%) will be a good indication of the predictive power of those chosen predictors. "
   ]
  },
  {
   "cell_type": "code",
   "execution_count": 22,
   "metadata": {},
   "outputs": [
    {
     "name": "stdout",
     "output_type": "stream",
     "text": [
      "Accuracy: 0.59375\n"
     ]
    },
    {
     "name": "stderr",
     "output_type": "stream",
     "text": [
      "/Users/adriencaudron/miniforge3/envs/algo310/lib/python3.10/site-packages/sklearn/utils/validation.py:1143: DataConversionWarning: A column-vector y was passed when a 1d array was expected. Please change the shape of y to (n_samples, ), for example using ravel().\n",
      "  y = column_or_1d(y, warn=True)\n"
     ]
    }
   ],
   "source": [
    "fast_track = qc_recipe_df.dropna()\n",
    "\n",
    "# Load your data into X and y\n",
    "X_ft = fast_track[[\"calories\",\"carbohydrate\",\"sugar\"]] \n",
    "y_ft = fast_track[[\"high_traffic\"]]\n",
    "\n",
    "# Split the data into training and testing sets\n",
    "X_ft_train, X_ft_test, y_ft_train, y_ft_test = train_test_split(X_ft, y_ft, random_state=42)\n",
    "\n",
    "# Train a logistic regression model\n",
    "lr = LogisticRegression()\n",
    "lr.fit(X_ft_train, y_ft_train)\n",
    "\n",
    "# Make predictions on the testing set\n",
    "y_ft_pred = lr.predict(X_ft_test)\n",
    "\n",
    "# Calculate the accuracy of the model\n",
    "accuracy = accuracy_score(y_ft_test, y_ft_pred)\n",
    "print(\"Accuracy:\", accuracy)"
   ]
  },
  {
   "cell_type": "markdown",
   "metadata": {},
   "source": [
    "The fast-track model demonstrates an accuracy of nearly 60%, which is a promising sign for the predictive power of our chosen predictors in accurately forecasting the target variable, high_traffic."
   ]
  },
  {
   "cell_type": "markdown",
   "metadata": {},
   "source": [
    "---\n",
    "# 3. Exploratory Data Analysis\n",
    "In this section, we will include different graphics and visualization displaying the relationship between our variables. Through this exploratory analysis, we aim to uncover important insights and patterns in the data."
   ]
  },
  {
   "cell_type": "code",
   "execution_count": 23,
   "metadata": {
    "tags": []
   },
   "outputs": [],
   "source": [
    "def display_boxplots(df, id_vars, value_vars, value_name, var_name, aspect_ratio):\n",
    "    # Use melt to reshape the DataFrame so that it has a single column for the values and a separate column for the variable\n",
    "    melted_df = df.melt(id_vars=id_vars, value_vars=value_vars, value_name=value_name, var_name=var_name)\n",
    "\n",
    "    # Use catplot to create boxplots\n",
    "    sns.catplot(data=melted_df, x=value_name, y=var_name, hue=id_vars[0], kind='box', height=10, aspect=aspect_ratio)\n",
    "\n",
    "    # Show the plot\n",
    "    plt.show()"
   ]
  },
  {
   "cell_type": "code",
   "execution_count": 24,
   "metadata": {},
   "outputs": [],
   "source": [
    "#create new columns for the food specs (calories, carbohydrate, sugar, protein) per serving\n",
    "qc_recipe_df['calories_per_serving'] = qc_recipe_df['calories'] / qc_recipe_df['servings']\n",
    "qc_recipe_df['carbohydrate_per_serving'] = qc_recipe_df['carbohydrate'] / qc_recipe_df['servings']\n",
    "qc_recipe_df['sugar_per_serving'] = qc_recipe_df['sugar'] / qc_recipe_df['servings']\n",
    "qc_recipe_df['protein_per_serving'] = qc_recipe_df['protein'] / qc_recipe_df['servings']"
   ]
  },
  {
   "cell_type": "markdown",
   "metadata": {},
   "source": [
    "#### Check if we can use the category to impute the missing value using the mean of each category"
   ]
  },
  {
   "cell_type": "code",
   "execution_count": 25,
   "metadata": {
    "tags": []
   },
   "outputs": [
    {
     "name": "stderr",
     "output_type": "stream",
     "text": [
      "/Users/adriencaudron/miniforge3/envs/algo310/lib/python3.10/site-packages/seaborn/categorical.py:3544: UserWarning: 11.0% of the points cannot be placed; you may want to decrease the size of the markers or use stripplot.\n",
      "  warnings.warn(msg, UserWarning)\n",
      "/Users/adriencaudron/miniforge3/envs/algo310/lib/python3.10/site-packages/seaborn/categorical.py:3544: UserWarning: 27.7% of the points cannot be placed; you may want to decrease the size of the markers or use stripplot.\n",
      "  warnings.warn(msg, UserWarning)\n",
      "/Users/adriencaudron/miniforge3/envs/algo310/lib/python3.10/site-packages/seaborn/categorical.py:3544: UserWarning: 38.7% of the points cannot be placed; you may want to decrease the size of the markers or use stripplot.\n",
      "  warnings.warn(msg, UserWarning)\n",
      "/Users/adriencaudron/miniforge3/envs/algo310/lib/python3.10/site-packages/seaborn/categorical.py:3544: UserWarning: 47.8% of the points cannot be placed; you may want to decrease the size of the markers or use stripplot.\n",
      "  warnings.warn(msg, UserWarning)\n",
      "/Users/adriencaudron/miniforge3/envs/algo310/lib/python3.10/site-packages/seaborn/categorical.py:3544: UserWarning: 14.9% of the points cannot be placed; you may want to decrease the size of the markers or use stripplot.\n",
      "  warnings.warn(msg, UserWarning)\n",
      "/Users/adriencaudron/miniforge3/envs/algo310/lib/python3.10/site-packages/seaborn/categorical.py:3544: UserWarning: 39.3% of the points cannot be placed; you may want to decrease the size of the markers or use stripplot.\n",
      "  warnings.warn(msg, UserWarning)\n",
      "/Users/adriencaudron/miniforge3/envs/algo310/lib/python3.10/site-packages/seaborn/categorical.py:3544: UserWarning: 18.3% of the points cannot be placed; you may want to decrease the size of the markers or use stripplot.\n",
      "  warnings.warn(msg, UserWarning)\n",
      "/Users/adriencaudron/miniforge3/envs/algo310/lib/python3.10/site-packages/seaborn/categorical.py:3544: UserWarning: 44.9% of the points cannot be placed; you may want to decrease the size of the markers or use stripplot.\n",
      "  warnings.warn(msg, UserWarning)\n",
      "/Users/adriencaudron/miniforge3/envs/algo310/lib/python3.10/site-packages/seaborn/categorical.py:3544: UserWarning: 28.6% of the points cannot be placed; you may want to decrease the size of the markers or use stripplot.\n",
      "  warnings.warn(msg, UserWarning)\n",
      "/Users/adriencaudron/miniforge3/envs/algo310/lib/python3.10/site-packages/seaborn/categorical.py:3544: UserWarning: 39.9% of the points cannot be placed; you may want to decrease the size of the markers or use stripplot.\n",
      "  warnings.warn(msg, UserWarning)\n"
     ]
    },
    {
     "data": {
      "image/png": "[encoded data removed]",
      "text/plain": [
       "<Figure size 1000x600 with 1 Axes>"
      ]
     },
     "metadata": {},
     "output_type": "display_data"
    }
   ],
   "source": [
    "# Set the figure size\n",
    "plt.figure(figsize=(10, 6))\n",
    "\n",
    "# Create violin plots for column 'sugar' across different categories\n",
    "#sns.violinplot(data=qc_recipe_df, x=\"category\", y=\"calories_per_serving\", inner=\"stick\")\n",
    "\n",
    "# create swarm plot\n",
    "sns.swarmplot(data=qc_recipe_df, x=\"category\", y=\"calories_per_serving\", hue = \"high_traffic\")\n",
    "\n",
    "# Rotate the x tick labels\n",
    "ax = plt.gca()\n",
    "for tick in ax.get_xticklabels():\n",
    "    tick.set_rotation(45)\n",
    "\n",
    "# Show the plot\n",
    "plt.show()"
   ]
  },
  {
   "cell_type": "markdown",
   "metadata": {
    "tags": []
   },
   "source": [
    "The swarm plot above shows us 2 things:\n",
    "\n",
    "there could be outliers in some categories: over 2000 calories per serving seems indeed quite high for just one serving (a pizza slice for reference is aprox 500 calories)\n",
    "some categories seems to generate high-traffic, like vegetable, potato, pork (orange color dominant in the graph), while other are generating low traffic: beverages, breakfast (blue color dominant)."
   ]
  },
  {
   "cell_type": "markdown",
   "metadata": {},
   "source": []
  },
  {
   "cell_type": "code",
   "execution_count": null,
   "metadata": {},
   "outputs": [],
   "source": [
    "qc_recipe_df['protein_per_serving'].describe()"
   ]
  },
  {
   "cell_type": "code",
   "execution_count": null,
   "metadata": {},
   "outputs": [],
   "source": [
    "qc_recipe_df['calories_per_serving'].describe()"
   ]
  },
  {
   "cell_type": "code",
   "execution_count": null,
   "metadata": {},
   "outputs": [],
   "source": [
    "qc_recipe_df['sugar_per_serving'].describe()"
   ]
  },
  {
   "cell_type": "code",
   "execution_count": null,
   "metadata": {},
   "outputs": [],
   "source": [
    "# create the subplots\n",
    "fig, axs = plt.subplots(1, 4, figsize=(20,5))\n",
    "\n",
    "# plot the histograms\n",
    "qc_recipe_df[\"calories_per_serving\"].hist(ax=axs[0])\n",
    "qc_recipe_df[\"carbohydrate_per_serving\"].hist(ax=axs[1])\n",
    "qc_recipe_df[\"sugar_per_serving\"].hist(ax=axs[2])\n",
    "qc_recipe_df[\"protein_per_serving\"].hist(ax=axs[3])\n",
    "\n",
    "# Add titles to the subplots\n",
    "axs[0].set_title(\"calories_per_serving\")\n",
    "axs[1].set_title(\"carbohydrate_per_serving\")\n",
    "axs[2].set_title(\"sugar_per_serving\")\n",
    "axs[3].set_title(\"protein_per_serving\")\n",
    "\n",
    "plt.show()"
   ]
  },
  {
   "cell_type": "code",
   "execution_count": null,
   "metadata": {},
   "outputs": [],
   "source": [
    "import seaborn as sns\n",
    "\n",
    "# Use melt to reshape the DataFrame so that it has a single column for the values and a separate column for the variable\n",
    "melted_df = qc_recipe_df.melt(id_vars=['category','servings'], value_vars=['calories_per_serving'], value_name='value', var_name='variable')\n",
    "\n",
    "# Use catplot to create boxplots for the columns 'calories_per_serving', 'carbohydrate_per_serving', 'sugar_per_serving', 'protein_per_serving'\n",
    "sns.catplot(data=melted_df, x='value', y='variable', hue='category', kind='box', aspect=2)\n",
    "\n",
    "# Show the plot\n",
    "plt.show()\n"
   ]
  },
  {
   "cell_type": "code",
   "execution_count": null,
   "metadata": {},
   "outputs": [],
   "source": [
    "# Use melt to reshape the DataFrame so that it has a single column for the values and a separate column for the variable\n",
    "melted_df2 = qc_recipe_df.melt(id_vars=['category','servings'], value_vars=['carbohydrate_per_serving','sugar_per_serving','protein_per_serving'], value_name='value', var_name='variable')\n",
    "\n",
    "\n",
    "# Use catplot to create boxplots for the columns 'calories_per_serving', 'carbohydrate_per_serving', 'sugar_per_serving', 'protein_per_serving'\n",
    "sns.catplot(data=melted_df2, x='value', y='variable', hue='category', kind='box', height=10, aspect=1.3)\n",
    "\n",
    "# Show the plot\n",
    "plt.show()\n"
   ]
  },
  {
   "cell_type": "markdown",
   "metadata": {},
   "source": [
    "### Let's identify those outliers "
   ]
  },
  {
   "cell_type": "code",
   "execution_count": null,
   "metadata": {},
   "outputs": [],
   "source": [
    "def id_outlier(food_spec,qa1,qa3):\n",
    "    # Calculate the interquartile range (IQR) of the 'calories' column\n",
    "    q1, q3 = qc_recipe_df[food_spec].quantile([qa1,qa3])\n",
    "    iqr = q3 - q1\n",
    "    \n",
    "    # Identify the outliers using the IQR and the lower and upper bounds.\n",
    "    lower_bound = 0 #q1 - (1.5 * iqr)\n",
    "    upper_bound = q3 + (1.5 * iqr)\n",
    "    outliers = qc_recipe_df[(qc_recipe_df[food_spec] < lower_bound) | (qc_recipe_df[food_spec] > upper_bound)]\n",
    "\n",
    "    return outliers\n"
   ]
  },
  {
   "cell_type": "code",
   "execution_count": null,
   "metadata": {},
   "outputs": [],
   "source": [
    "id_outlier('calories_per_serving',0.5,0.95)"
   ]
  },
  {
   "cell_type": "code",
   "execution_count": null,
   "metadata": {},
   "outputs": [],
   "source": [
    "id_outlier('protein_per_serving',0.5,0.95)"
   ]
  },
  {
   "cell_type": "code",
   "execution_count": null,
   "metadata": {},
   "outputs": [],
   "source": [
    "id_outlier('sugar_per_serving',0.5,0.95)"
   ]
  },
  {
   "cell_type": "code",
   "execution_count": null,
   "metadata": {},
   "outputs": [],
   "source": [
    "id_outlier('carbohydrate_per_serving',0.5,0.95)"
   ]
  },
  {
   "cell_type": "markdown",
   "metadata": {},
   "source": [
    "##### The value of protein > 150, sugar >100 , carb > 200 seems really extreme. We will remove them "
   ]
  },
  {
   "cell_type": "code",
   "execution_count": null,
   "metadata": {},
   "outputs": [],
   "source": [
    "outliers = qc_recipe_df[(qc_recipe_df['carbohydrate_per_serving'] > 200) | (qc_recipe_df['sugar_per_serving'] > 100) | (qc_recipe_df['protein_per_serving'] > 150)]"
   ]
  },
  {
   "cell_type": "code",
   "execution_count": null,
   "metadata": {},
   "outputs": [],
   "source": [
    "outliers"
   ]
  },
  {
   "cell_type": "code",
   "execution_count": null,
   "metadata": {},
   "outputs": [],
   "source": [
    "# Remove the subset dataframe 'outliers' from the original dataset\n",
    "qc_recipe_df = pd.concat([qc_recipe_df, outliers]).drop_duplicates(keep=False)"
   ]
  },
  {
   "cell_type": "code",
   "execution_count": null,
   "metadata": {},
   "outputs": [],
   "source": [
    "# Use melt to reshape the DataFrame so that it has a single column for the values and a separate column for the variable\n",
    "melted_df2 = qc_recipe_df.melt(id_vars=['category','servings'], value_vars=['carbohydrate_per_serving','sugar_per_serving','protein_per_serving'], value_name='value', var_name='variable')\n",
    "\n",
    "# Create a new figure with a specific size\n",
    "plt.figure(figsize=(20,5))\n",
    "\n",
    "# Use catplot to create boxplots for the columns 'calories_per_serving', 'carbohydrate_per_serving', 'sugar_per_serving', 'protein_per_serving'\n",
    "sns.catplot(data=melted_df2, x='value', y='variable', hue='category', kind='box', height=10, aspect=1.3)\n",
    "\n",
    "# Show the plot\n",
    "plt.show()"
   ]
  },
  {
   "cell_type": "markdown",
   "metadata": {},
   "source": [
    "### Let's now deal with the non-data value we have in the dataframe, by using the average of the food specs ('carbohydrate_per_serving','sugar_per_serving','protein_per_serving') per category "
   ]
  },
  {
   "cell_type": "code",
   "execution_count": null,
   "metadata": {},
   "outputs": [],
   "source": [
    "# group data by category\n",
    "grouped_data = qc_recipe_df.groupby('category')\n",
    "\n",
    "# calculate median of food specs per category\n",
    "median_carbohydrate = grouped_data['carbohydrate_per_serving'].median()\n",
    "median_sugar = grouped_data['sugar_per_serving'].median()\n",
    "median_protein = grouped_data['protein_per_serving'].median()\n",
    "\n",
    "# fill non-data values in original dataframe with calculated median, as each distribution of macro nutrient is right-skewed\n",
    "qc_recipe_df['carbohydrate_per_serving'] = qc_recipe_df['carbohydrate_per_serving'].fillna(qc_recipe_df.groupby('category')['carbohydrate_per_serving'].transform('median'))\n",
    "qc_recipe_df['sugar_per_serving'] = qc_recipe_df['sugar_per_serving'].fillna(qc_recipe_df.groupby('category')['sugar_per_serving'].transform('median'))\n",
    "qc_recipe_df['protein_per_serving'] = qc_recipe_df['protein_per_serving'].fillna(qc_recipe_df.groupby('category')['protein_per_serving'].transform('median'))\n",
    "qc_recipe_df['calories_per_serving'] = qc_recipe_df['calories_per_serving'].fillna(qc_recipe_df.groupby('category')['calories_per_serving'].transform('median'))\n"
   ]
  },
  {
   "cell_type": "code",
   "execution_count": null,
   "metadata": {},
   "outputs": [],
   "source": [
    "# Set the plot size by default for all matplotlib images\n",
    "plt.rc('figure', figsize=(9,5))\n",
    "\n",
    "qc_recipe_df['calories_per_serving'].hist()"
   ]
  },
  {
   "cell_type": "code",
   "execution_count": null,
   "metadata": {},
   "outputs": [],
   "source": [
    "qc_recipe_df.info()"
   ]
  },
  {
   "cell_type": "code",
   "execution_count": null,
   "metadata": {},
   "outputs": [],
   "source": [
    "qc_recipe_df['high_traffic'].value_counts()"
   ]
  },
  {
   "cell_type": "markdown",
   "metadata": {},
   "source": []
  },
  {
   "cell_type": "markdown",
   "metadata": {},
   "source": [
    "## EXploratory Data Analysis \n",
    "--- "
   ]
  },
  {
   "cell_type": "code",
   "execution_count": null,
   "metadata": {},
   "outputs": [],
   "source": [
    "EDA_recipe_df = qc_recipe_df.drop(columns=[\"sugar\", \"calories\", \"protein\", \"carbohydrate\"])\n"
   ]
  },
  {
   "cell_type": "markdown",
   "metadata": {},
   "source": [
    "### Calculating Fat amount in g, and macro-nutrient %"
   ]
  },
  {
   "cell_type": "code",
   "execution_count": null,
   "metadata": {},
   "outputs": [],
   "source": [
    "# we can use the formula : Fat (g) = (Total Calories - (Protein (g) * 4 + Carbohydrates (g) * 4 + Sugar (g) * 4)) / 9\n",
    "# approximation from source: https://www.livestrong.com/article/81042-calculate-percentage-calories-fat-carbohydrate/\n",
    "# ‌Carbohydrates:‌ 4 calories per gram\n",
    "#  Fat:‌ 9 calories per gram\n",
    "#  Protein:‌ 4 calories per gram\n",
    "#  average daily intake = 1,600 calories per day per person\n",
    "\n",
    "EDA_recipe_df['fat_per_serving'] = (EDA_recipe_df['calories_per_serving'] - ( EDA_recipe_df['protein_per_serving']*4 + EDA_recipe_df['sugar_per_serving']*4) )/9\n",
    "EDA_recipe_df['fat_per_serving'] = EDA_recipe_df['fat_per_serving'].clip(lower=0)\n"
   ]
  },
  {
   "cell_type": "code",
   "execution_count": null,
   "metadata": {},
   "outputs": [],
   "source": [
    "# Set the plot size\n",
    "plt.subplots(figsize=(10,5))\n",
    "\n",
    "EDA_recipe_df['fat_per_serving'].hist()"
   ]
  },
  {
   "cell_type": "code",
   "execution_count": null,
   "metadata": {},
   "outputs": [],
   "source": [
    "EDA_recipe_df['fat_per_serving'].describe()"
   ]
  },
  {
   "cell_type": "code",
   "execution_count": null,
   "metadata": {},
   "outputs": [],
   "source": [
    "# Now let's calculate the percentengages of macro nurients\n",
    "EDA_recipe_df['weight_per_serving'] = EDA_recipe_df['fat_per_serving'] + EDA_recipe_df['protein_per_serving'] + EDA_recipe_df['carbohydrate_per_serving']+ EDA_recipe_df['sugar_per_serving']\n",
    "EDA_recipe_df['carb_%'] = EDA_recipe_df['carbohydrate_per_serving'] / EDA_recipe_df['weight_per_serving']\n",
    "EDA_recipe_df['protein_%'] = EDA_recipe_df['protein_per_serving'] / EDA_recipe_df['weight_per_serving']\n",
    "EDA_recipe_df['fat_%'] = EDA_recipe_df['fat_per_serving'] / EDA_recipe_df['weight_per_serving']\n",
    "EDA_recipe_df['daily_intake_%'] = EDA_recipe_df['calories_per_serving'] / 1600"
   ]
  },
  {
   "cell_type": "code",
   "execution_count": null,
   "metadata": {},
   "outputs": [],
   "source": [
    "EDA_recipe_df.info()"
   ]
  },
  {
   "cell_type": "code",
   "execution_count": null,
   "metadata": {},
   "outputs": [],
   "source": [
    "EDA_recipe_df.describe()"
   ]
  },
  {
   "cell_type": "markdown",
   "metadata": {},
   "source": [
    "### Clustering in Macro Nutrient Categories\n",
    "---"
   ]
  },
  {
   "cell_type": "markdown",
   "metadata": {},
   "source": [
    "##### We will use KMeans with 4 cluster first "
   ]
  },
  {
   "cell_type": "code",
   "execution_count": null,
   "metadata": {},
   "outputs": [],
   "source": [
    "from sklearn.cluster import KMeans\n",
    "\n",
    "data = EDA_recipe_df[[\"carb_%\", \"protein_%\", \"fat_%\"]].values\n",
    "\n",
    "# Initialize the KMeans model with 6 clusters\n",
    "kmeans = KMeans(n_clusters=4)\n",
    "\n",
    "# Fit the model to the data\n",
    "kmeans.fit(data)\n",
    "\n",
    "# Get the cluster labels for each data point\n",
    "labels = kmeans.labels_\n",
    "\n",
    "# Add the cluster labels as a new column in the DataFrame\n",
    "EDA_recipe_df[\"cluster\"] = labels"
   ]
  },
  {
   "cell_type": "code",
   "execution_count": null,
   "metadata": {},
   "outputs": [],
   "source": [
    "# Group the DataFrame by the cluster labels and calculate the mean for each column\n",
    "cluster_means = EDA_recipe_df[[\"carb_%\", \"protein_%\", \"fat_%\",\"cluster\"]].groupby(\"cluster\").mean().reset_index()\n",
    "\n",
    "print(cluster_means)"
   ]
  },
  {
   "cell_type": "markdown",
   "metadata": {},
   "source": [
    "##### We will manually add a 4th class, corresponding to balanced foods. \n",
    "##### For this, we will first creeate a Mask for balanced foods: "
   ]
  },
  {
   "cell_type": "code",
   "execution_count": null,
   "metadata": {},
   "outputs": [],
   "source": [
    "# Filter the data to include only instances that fit the ranges for foods that are balanced for adults: \n",
    "# balanced_food will be in the following ranges : \n",
    "# - protein_% >=10 and protein_% <=35\n",
    "# - fat_% >= 20% and fat_% <= 35%\n",
    "# - carb_% >= 45% and carb_% <= 70%\n",
    "\n",
    "mask = (\n",
    "    (EDA_recipe_df['protein_%'] >= .1) & (EDA_recipe_df['protein_%'] <= .4) \n",
    "    & ((EDA_recipe_df['fat_%'] >= .15) & (EDA_recipe_df['fat_%'] <= .6)) \n",
    "    & ((EDA_recipe_df['carb_%'] >= .15) & (EDA_recipe_df['carb_%'] < .7))\n",
    ")\n",
    "\n",
    "balanced_food = EDA_recipe_df[mask]\n",
    "\n",
    "balanced_recipe_df = EDA_recipe_df[mask]\n",
    "\n",
    "# Assign a new label named 4  to the instances that belong to the new category\n",
    "EDA_recipe_df['cluster'] = np.where(mask, 4, EDA_recipe_df['cluster'])"
   ]
  },
  {
   "cell_type": "code",
   "execution_count": null,
   "metadata": {},
   "outputs": [],
   "source": [
    "print(\"Total % of balanced food in the website= \",round(len (balanced_recipe_df)/len (EDA_recipe_df),2)*100,\" %\")"
   ]
  },
  {
   "cell_type": "code",
   "execution_count": null,
   "metadata": {},
   "outputs": [],
   "source": [
    "for i in range(0,5) : \n",
    "    print (\"cluster \",i,\" ratio = \", \n",
    "        round(len(EDA_recipe_df.loc[EDA_recipe_df['cluster']==i])/len(EDA_recipe_df),2)\n",
    "    )"
   ]
  },
  {
   "cell_type": "code",
   "execution_count": null,
   "metadata": {},
   "outputs": [],
   "source": [
    "import plotly.express as px\n",
    "\n",
    "fig = px.scatter_ternary(EDA_recipe_df, a=\"carb_%\", b=\"protein_%\", c=\"fat_%\",color='cluster',hover_name='cluster')\n",
    "fig.update_layout(\n",
    "    title=\"Ternary Plot of Carbohydrates, Protein, and Fat in Recipes\",\n",
    "    font=dict(\n",
    "        size=12,\n",
    "        color=\"#7f7f7f\"\n",
    "    ),\n",
    "    scene=dict(\n",
    "        xaxis_title=\"Carbohydrates (%)\",\n",
    "        yaxis_title=\"Protein (%)\",\n",
    "        zaxis_title=\"Fat (%)\"\n",
    "    )\n",
    ")\n",
    "fig.show()"
   ]
  },
  {
   "cell_type": "markdown",
   "metadata": {},
   "source": [
    "### function for encoding dummies\n",
    "---"
   ]
  },
  {
   "cell_type": "code",
   "execution_count": null,
   "metadata": {},
   "outputs": [],
   "source": [
    "def dummies (df:pd.DataFrame,cols,prefix):\n",
    "    # Select the categorical columns to be encoded\n",
    "    categorical_cols = [cols]\n",
    "    \n",
    "    # Create dummy variables for each category\n",
    "    df_dummies = pd.get_dummies(df[categorical_cols], prefix)\n",
    "    \n",
    "    # Drop the original categorical columns\n",
    "    df.drop(categorical_cols, axis=1, inplace=True)\n",
    "    \n",
    "    # Concatenate the original dataframe with the dummy encoded dataframe\n",
    "    df = pd.concat([df, df_dummies], axis=1)\n",
    "\n",
    "    return df"
   ]
  },
  {
   "cell_type": "code",
   "execution_count": null,
   "metadata": {},
   "outputs": [],
   "source": [
    "EDA_recipe_df = dummies (EDA_recipe_df,'category', 'meal')"
   ]
  },
  {
   "cell_type": "code",
   "execution_count": null,
   "metadata": {},
   "outputs": [],
   "source": [
    "EDA_recipe_df.columns"
   ]
  },
  {
   "cell_type": "code",
   "execution_count": null,
   "metadata": {},
   "outputs": [],
   "source": [
    "EDA_recipe_df['cluster'] = EDA_recipe_df['cluster'].astype(str)"
   ]
  },
  {
   "cell_type": "code",
   "execution_count": null,
   "metadata": {},
   "outputs": [],
   "source": [
    "EDA_recipe_df.dtypes"
   ]
  },
  {
   "cell_type": "code",
   "execution_count": null,
   "metadata": {},
   "outputs": [],
   "source": [
    "EDA_recipe_df = dummies (EDA_recipe_df,'cluster', 'type')"
   ]
  },
  {
   "cell_type": "code",
   "execution_count": null,
   "metadata": {},
   "outputs": [],
   "source": [
    "EDA_recipe_df.columns"
   ]
  },
  {
   "cell_type": "markdown",
   "metadata": {},
   "source": [
    "### Dealing with Class Imbalance\n",
    "We will use oversampling the class 0 (low traffic) with the random duplication of observations with low traffic , as we don't want to remove observations of High Traffic (what we want to predit)"
   ]
  },
  {
   "cell_type": "code",
   "execution_count": null,
   "metadata": {},
   "outputs": [],
   "source": [
    "# get the indices of the minority class\n",
    "minority_indices = EDA_recipe_df[EDA_recipe_df['high_traffic'] == 0].index\n",
    "\n",
    "# get the indices of the majority class\n",
    "majority_indices = EDA_recipe_df[EDA_recipe_df['high_traffic'] == 1].index\n",
    "\n",
    "# randomly select equal number of indices from the minority class as the majority class\n",
    "random_minority_indices = np.random.choice(minority_indices, len(majority_indices), replace=True)\n",
    "\n",
    "# combine the indices of both classes\n",
    "balanced_indices = np.concatenate([majority_indices, random_minority_indices])\n",
    "\n",
    "# balance the classes using the indices\n",
    "BAL_recipe_df = EDA_recipe_df.loc[balanced_indices]"
   ]
  },
  {
   "cell_type": "code",
   "execution_count": null,
   "metadata": {},
   "outputs": [],
   "source": [
    "BAL_recipe_df['high_traffic'].value_counts()"
   ]
  },
  {
   "cell_type": "markdown",
   "metadata": {},
   "source": []
  },
  {
   "cell_type": "markdown",
   "metadata": {},
   "source": [
    "---\n",
    "\n",
    "### Generating the Features and Target Sets"
   ]
  },
  {
   "cell_type": "markdown",
   "metadata": {},
   "source": [
    "#### Create the features set"
   ]
  },
  {
   "cell_type": "code",
   "execution_count": null,
   "metadata": {},
   "outputs": [],
   "source": [
    "# Assign a copy of the sma_fast and sma_slow columns to a new DataFrame called X\n",
    "X = BAL_recipe_df.drop(columns=[\"high_traffic\"])\n",
    "#X = X.drop(columns=[\"cluster\"])\n",
    "\n",
    "# Display sample data\n",
    "display(X.head())\n",
    "display(X.tail())"
   ]
  },
  {
   "cell_type": "markdown",
   "metadata": {},
   "source": [
    "#### Create the target set"
   ]
  },
  {
   "cell_type": "code",
   "execution_count": null,
   "metadata": {},
   "outputs": [],
   "source": [
    "# Copy the new signal column to a new Series called y.\n",
    "y = BAL_recipe_df[\"high_traffic\"].copy()"
   ]
  },
  {
   "cell_type": "markdown",
   "metadata": {},
   "source": [
    "### Identifying statistically significant features\n",
    "---\n",
    "since we have a categorical dependent variable (high or low traffic), I will use chi-squared test (chi2) from the sklearn.feature_selection module to identify the features that are statistically significant. "
   ]
  },
  {
   "cell_type": "code",
   "execution_count": null,
   "metadata": {},
   "outputs": [],
   "source": [
    "from sklearn.feature_selection import SelectKBest, chi2\n",
    "\n",
    "# Select the top k features based on chi2 test\n",
    "selector = SelectKBest(chi2, k=20)\n",
    "selector.fit(X, y)\n",
    "\n",
    "# Get the indices of the selected features\n",
    "selected_features = selector.get_support(indices=True)"
   ]
  },
  {
   "cell_type": "code",
   "execution_count": null,
   "metadata": {},
   "outputs": [],
   "source": [
    "selected_features"
   ]
  },
  {
   "cell_type": "code",
   "execution_count": null,
   "metadata": {},
   "outputs": [],
   "source": [
    "# Get the p-values for each feature\n",
    "scores = selector.scores_\n",
    "\n",
    "# Get the indices of the selected features\n",
    "selected_features = selector.get_support(indices=True)\n",
    "\n",
    "# Get the names of the columns in the feature matrix\n",
    "column_chi2 = [i for i in X.columns if i in X]\n",
    "\n",
    "# Print the selected features with their corresponding p-values\n",
    "for i, selected_feature in enumerate(selected_features):\n",
    "    print(f\"{column_chi2[selected_feature]} selected with a chi2 score of {scores[selected_feature]}\")\n"
   ]
  },
  {
   "cell_type": "code",
   "execution_count": null,
   "metadata": {},
   "outputs": [],
   "source": [
    "selected_features"
   ]
  },
  {
   "cell_type": "code",
   "execution_count": null,
   "metadata": {},
   "outputs": [],
   "source": [
    "# keep only specified columns in the dataframe\n",
    "X = X.iloc[:, selected_features]"
   ]
  },
  {
   "cell_type": "code",
   "execution_count": null,
   "metadata": {},
   "outputs": [],
   "source": [
    "X"
   ]
  },
  {
   "cell_type": "markdown",
   "metadata": {},
   "source": [
    "### keep only the features with the lowest correlation between themselves:\n",
    "\n",
    "---"
   ]
  },
  {
   "cell_type": "markdown",
   "metadata": {},
   "source": [
    "\n",
    "# calculate the correlation matrix\n",
    "corr_matrix = X.corr().abs()\n",
    "\n",
    "# get the upper triangle of the correlation matrix\n",
    "upper = corr_matrix.where(np.triu(np.ones(corr_matrix.shape), k=1).astype(np.bool_))\n",
    "\n",
    "# get the index of the features with the lowest correlation\n",
    "to_keep = [column for column in upper.columns if any(upper[column] < 0.8)]\n",
    "\n",
    "# keep only the features with the lowest correlation\n",
    "X = X[to_keep]\n"
   ]
  },
  {
   "cell_type": "code",
   "execution_count": null,
   "metadata": {},
   "outputs": [],
   "source": [
    "len(X.columns)"
   ]
  },
  {
   "cell_type": "code",
   "execution_count": null,
   "metadata": {},
   "outputs": [],
   "source": [
    "#pplot correlation matrix\n",
    "dataplot=sns.heatmap(X.corr().abs(), cmap=\"YlGnBu\")\n",
    "  \n",
    "# displaying heatmap\n",
    "plt.show()"
   ]
  },
  {
   "cell_type": "code",
   "execution_count": null,
   "metadata": {},
   "outputs": [],
   "source": [
    "X.columns"
   ]
  },
  {
   "cell_type": "markdown",
   "metadata": {},
   "source": [
    "---\n",
    "\n",
    "### Split the Data Into Training and Testing Datasets"
   ]
  },
  {
   "cell_type": "markdown",
   "metadata": {},
   "source": [
    "#### Creating the Training and Testing Datasets"
   ]
  },
  {
   "cell_type": "code",
   "execution_count": null,
   "metadata": {},
   "outputs": [],
   "source": [
    "from sklearn.model_selection import train_test_split\n",
    "\n",
    "# Split the data into training and testing sets\n",
    "X_train, X_test, y_train, y_test = train_test_split(X, y, test_size=0.3, random_state=42)\n"
   ]
  },
  {
   "cell_type": "markdown",
   "metadata": {},
   "source": [
    "#### Standardizing the Data"
   ]
  },
  {
   "cell_type": "code",
   "execution_count": null,
   "metadata": {},
   "outputs": [],
   "source": [
    "# Imports\n",
    "from sklearn.preprocessing import StandardScaler\n",
    "\n",
    "# Create a StandardScaler instance\n",
    "scaler = StandardScaler()\n",
    " \n",
    "# Apply the scaler model to fit the X-train data\n",
    "X_scaler = scaler.fit(X_train)\n",
    " \n",
    "# Transform the X_train and X_test DataFrames using the X_scaler\n",
    "X_train_scaled = X_scaler.transform(X_train)\n",
    "X_test_scaled = X_scaler.transform(X_test)"
   ]
  },
  {
   "cell_type": "markdown",
   "metadata": {},
   "source": [
    "---\n",
    "\n",
    "### Incorporate the SVM Machine Learning Into the Trading Strategy"
   ]
  },
  {
   "cell_type": "code",
   "execution_count": null,
   "metadata": {},
   "outputs": [],
   "source": [
    "# Imports\n",
    "from sklearn import svm\n",
    "from sklearn.metrics import classification_report, accuracy_score, f1_score, roc_auc_score"
   ]
  },
  {
   "cell_type": "code",
   "execution_count": null,
   "metadata": {},
   "outputs": [],
   "source": [
    "# Create the classifier model\n",
    "svm_model = svm.SVC()\n",
    " \n",
    "# Fit the model to the data using X_train_scaled and y_train\n",
    "svm_model = svm_model.fit(X_train_scaled, y_train)\n",
    "\n",
    "# Use the trained model to predict the trading signals for the training data\n",
    "training_signal_predictions = svm_model.predict(X_train_scaled)\n",
    "\n",
    "# Display the sample predictions\n",
    "training_signal_predictions[:10]"
   ]
  },
  {
   "cell_type": "code",
   "execution_count": null,
   "metadata": {},
   "outputs": [],
   "source": [
    "# Evaluate the model using a classification report\n",
    "training_report = classification_report(y_train, training_signal_predictions)\n",
    "print(training_report)"
   ]
  },
  {
   "cell_type": "code",
   "execution_count": null,
   "metadata": {},
   "outputs": [],
   "source": [
    "test_predictions = svm_model.predict(X_test_scaled)\n",
    "\n",
    "accuracy = accuracy_score(y_test, test_predictions)\n",
    "f1 = f1_score(y_test, test_predictions, average='micro')\n",
    "\n",
    "# Print the results\n",
    "print(f'Test accuracy: {accuracy:.2f}')\n",
    "print(f'Test F1 score: {f1:.2f}')"
   ]
  },
  {
   "cell_type": "code",
   "execution_count": null,
   "metadata": {},
   "outputs": [],
   "source": [
    "# Evaluate the model using a classification report\n",
    "testing_report = classification_report(y_test, test_predictions)\n",
    "print(testing_report)"
   ]
  },
  {
   "cell_type": "code",
   "execution_count": null,
   "metadata": {},
   "outputs": [],
   "source": [
    "# display ROC_curve and claculate AUC\n",
    "from sklearn.metrics import roc_curve, roc_auc_score\n",
    "\n",
    "# calculate the true positive rate and false positive rate for different probability thresholds:\n",
    "fpr, tpr, thresholds = roc_curve(y_test, test_predictions)\n",
    "\n",
    "# Calculate the AUC \n",
    "auc = roc_auc_score(y_test, test_predictions )\n",
    "\n",
    "# Set the plot size\n",
    "plt.subplots(figsize=(10,5))\n",
    "\n",
    "# Plot the ROC curve\n",
    "plt.plot(fpr, tpr, label='ROC curve pca (AUC = {:.2f})'.format(auc))\n",
    "plt.plot([0, 1], [0, 1], linestyle='--', label='Random guess')\n",
    "plt.xlabel('False Positive Rate')\n",
    "plt.ylabel('True Positive Rate')\n",
    "plt.legend()\n",
    "plt.show()\n"
   ]
  },
  {
   "cell_type": "markdown",
   "metadata": {},
   "source": [
    "---\n",
    "\n",
    "# Add a New Machine Learning Model"
   ]
  },
  {
   "cell_type": "markdown",
   "metadata": {},
   "source": [
    "## Import the `RandomForest` model from scikit-learn.\n"
   ]
  },
  {
   "cell_type": "code",
   "execution_count": null,
   "metadata": {},
   "outputs": [],
   "source": [
    "# Import RandomForest from sklearn\n",
    "from sklearn.ensemble import RandomForestClassifier"
   ]
  },
  {
   "cell_type": "code",
   "execution_count": null,
   "metadata": {},
   "outputs": [],
   "source": [
    "# Create an instance of the RandomForest model\n",
    "rf_classifier = RandomForestClassifier()"
   ]
  },
  {
   "cell_type": "markdown",
   "metadata": {},
   "source": [
    "## Using the same training data that the SVM model used (`X_train_scaled` and `y_train`), fit the `RandomForest` model."
   ]
  },
  {
   "cell_type": "code",
   "execution_count": null,
   "metadata": {},
   "outputs": [],
   "source": [
    "# Fit the LogisticRegression model\n",
    "rf_classifier.fit(X_train_scaled, y_train)"
   ]
  },
  {
   "cell_type": "markdown",
   "metadata": {},
   "source": [
    "## Use the trained model to predict the trading signals for the training data. Use the `classification_report` module to evaluate the model."
   ]
  },
  {
   "cell_type": "code",
   "execution_count": null,
   "metadata": {},
   "outputs": [],
   "source": [
    "# Use the trained LogisticRegression model to predict the trading signals for the training data\n",
    "rf_training_signal_predictions = rf_classifier.predict(X_train_scaled)"
   ]
  },
  {
   "cell_type": "code",
   "execution_count": null,
   "metadata": {},
   "outputs": [],
   "source": [
    "# Generate a classification report using the training data and the logistic regression model's predications\n",
    "rf_training_report = classification_report(y_train, rf_training_signal_predictions)\n",
    "\n",
    "# Review the classification report\n",
    "print(rf_training_report)"
   ]
  },
  {
   "cell_type": "markdown",
   "metadata": {},
   "source": [
    "## Backtest the `RandomForestClassifier` model using the testing data to evaluate its performance."
   ]
  },
  {
   "cell_type": "code",
   "execution_count": null,
   "metadata": {},
   "outputs": [],
   "source": [
    "# Use the trained model to predict the trading signals for the testing data.\n",
    "rf_test_predictions = rf_classifier.predict(X_test_scaled)"
   ]
  },
  {
   "cell_type": "code",
   "execution_count": null,
   "metadata": {},
   "outputs": [],
   "source": [
    "# Generate a classification report using the testing data and the logistic regression model's predictions\n",
    "rf_testing_report = classification_report(y_test, rf_test_predictions)\n",
    "\n",
    "# Review the testing classification report\n",
    "print(rf_testing_report)"
   ]
  },
  {
   "cell_type": "code",
   "execution_count": null,
   "metadata": {},
   "outputs": [],
   "source": [
    "# Calculate the accuracy and F1 score for the test data\n",
    "accuracy = accuracy_score(y_test, rf_test_predictions)\n",
    "f1 = f1_score(y_test, rf_test_predictions, average='micro')\n",
    "\n",
    "# Print the results\n",
    "print(f'Test accuracy: {accuracy:.2f}')\n",
    "print(f'Test F1 score: {f1:.2f}')"
   ]
  },
  {
   "cell_type": "markdown",
   "metadata": {},
   "source": [
    "# Part 2 - xgboost Classifier"
   ]
  },
  {
   "cell_type": "markdown",
   "metadata": {},
   "source": [
    "---\n",
    "\n",
    "### Incorporate the xgboost Machine Learning Into the Trading Strategy"
   ]
  },
  {
   "cell_type": "code",
   "execution_count": null,
   "metadata": {},
   "outputs": [],
   "source": [
    "import xgboost as xgb\n",
    "#from xgboost import xgbClassifier\n",
    "from sklearn.metrics import accuracy_score, f1_score\n",
    "from sklearn.model_selection import GridSearchCV\n",
    "\n",
    "# Create a xgb Classifier model\n",
    "xgb_clf = xgb.XGBClassifier(reg_alpha=5)\n",
    "\n",
    "xgb_clf.fit(X_train_scaled, y_train)\n",
    "\n",
    "# Use the best model to make predictions on the test data\n",
    "y_pred_xgb = xgb_clf.predict(X_test_scaled)\n",
    "\n",
    "# Calculate the accuracy and F1 score for the test data\n",
    "accuracy = accuracy_score(y_test, y_pred_xgb)\n",
    "f1 = f1_score(y_test, y_pred_xgb, average='micro')\n",
    "\n",
    "# Print the results\n",
    "print(f'Test accuracy: {accuracy:.2f}')\n",
    "print(f'Test F1 score: {f1:.2f}')"
   ]
  },
  {
   "cell_type": "markdown",
   "metadata": {},
   "source": [
    "### Displaying ROC Curve"
   ]
  },
  {
   "cell_type": "code",
   "execution_count": null,
   "metadata": {},
   "outputs": [],
   "source": [
    "from sklearn.metrics import roc_curve, roc_auc_score\n",
    "import matplotlib.pyplot as plt\n",
    "\n",
    "xgb_signal_predictions = xgb_clf.predict(X_test_scaled)\n",
    "\n",
    "#Calculate ROC Curve\n",
    "xgb_fpr, xgb_tpr, xgb_thresholds = roc_curve(y_test, xgb_signal_predictions )\n",
    "\n",
    "# Calculate the AUC \n",
    "xgb_auc = roc_auc_score(y_test, xgb_signal_predictions )\n",
    "\n",
    "# Plot the ROC curve\n",
    "plt.plot(xgb_fpr, xgb_tpr, label='ROC curve pca (AUC = {:.2f})'.format(xgb_auc))\n",
    "plt.plot([0, 1], [0, 1], linestyle='--', label='Random guess')\n",
    "plt.xlabel('False Positive Rate')\n",
    "plt.ylabel('True Positive Rate')\n",
    "plt.legend()\n",
    "plt.show()"
   ]
  },
  {
   "cell_type": "code",
   "execution_count": null,
   "metadata": {},
   "outputs": [],
   "source": [
    "# Generate a classification report using the training data predictions\n",
    "xgb_training_predictions = xgb_clf.predict(X_train_scaled)\n",
    "xgb_training_report = classification_report(y_train, xgb_training_predictions)\n",
    "\n",
    "# Review the testing classification report\n",
    "print(xgb_training_report)"
   ]
  },
  {
   "cell_type": "code",
   "execution_count": null,
   "metadata": {},
   "outputs": [],
   "source": [
    "# Generate a classification report using the testing data and the pca model's predictions\n",
    "xgb_testing_report = classification_report(y_test, xgb_signal_predictions)\n",
    "\n",
    "# Review the testing classification report\n",
    "print(xgb_testing_report)"
   ]
  },
  {
   "cell_type": "markdown",
   "metadata": {},
   "source": [
    "### Introducting SHAP\n",
    "--- \n",
    "from (https://www.dominodatalab.com/blog/shap-lime-python-libraries-part-2-using-shap-lime)"
   ]
  },
  {
   "cell_type": "code",
   "execution_count": null,
   "metadata": {},
   "outputs": [],
   "source": [
    "import shap \n",
    "import sklearn #for building models\n",
    "import xgboost as xgb #for building models\n",
    "import sklearn.ensemble #for building models\n",
    "import lime #LIME package\n",
    "import lime.lime_tabular #the type of LIIME analysis we’ll do\n",
    "\n",
    "# Random Forest\n",
    "#rf = sklearn.ensemble.RandomForestRegressor()\n",
    "# rf.fit(X_train, y_train)\n",
    "\n"
   ]
  },
  {
   "cell_type": "code",
   "execution_count": null,
   "metadata": {},
   "outputs": [],
   "source": [
    "# Tree on XGBoost\n",
    "explainerXGB = shap.TreeExplainer(xgb_clf)\n",
    "shap_values_XGB_test = explainerXGB.shap_values(X_test)\n",
    "shap_values_XGB_train = explainerXGB.shap_values(X_train)\n",
    "\n",
    "# Tree on Random Forest explainer\n",
    "explainerRF = shap.TreeExplainer(rf_classifier)\n",
    "shap_values_RF_test = explainerRF.shap_values(X_test)\n",
    "shap_values_RF_train = explainerRF.shap_values(X_train)\n"
   ]
  },
  {
   "cell_type": "code",
   "execution_count": null,
   "metadata": {},
   "outputs": [],
   "source": [
    "## setting up LIME \n",
    "# if a feature has 10 or less unique values then treat it as categorical\n",
    "categorical_features = np.argwhere(np.array([len(set(X_train.values[:,x]))\n",
    "for x in range(X_train.values.shape[1])]) <= 10).flatten() \n",
    "    # LIME has one explainer for all models\n",
    "explainer = lime.lime_tabular.LimeTabularExplainer(X_train.values,\n",
    "    feature_names=X_train.columns.values.tolist(),\n",
    "    class_names=['price'],\n",
    "    categorical_features=categorical_features,\n",
    "    verbose=True, mode='regression')"
   ]
  },
  {
   "cell_type": "code",
   "execution_count": null,
   "metadata": {},
   "outputs": [],
   "source": [
    "shap.summary_plot(shap_values_XGB_test, X_test, plot_type=\"bar\")"
   ]
  },
  {
   "cell_type": "code",
   "execution_count": null,
   "metadata": {},
   "outputs": [],
   "source": [
    "# summarize the effects of all the features\n",
    "shap.summary_plot(shap_values_XGB_test, X_test,plot_type='violin')"
   ]
  },
  {
   "cell_type": "markdown",
   "metadata": {},
   "source": [
    "### Using a neural network NNT"
   ]
  },
  {
   "cell_type": "code",
   "execution_count": null,
   "metadata": {},
   "outputs": [],
   "source": [
    "# Import the `Dropout` layer\n",
    "from keras.layers import Dropout\n",
    "# Import regularization functions\n",
    "from keras.regularizers import l1, l2\n",
    "from keras.layers import Dense, Activation\n",
    "from tensorflow.keras.models import Sequential"
   ]
  },
  {
   "cell_type": "code",
   "execution_count": null,
   "metadata": {},
   "outputs": [],
   "source": [
    "# Build the Model\n",
    "model = Sequential()\n",
    "# number of feaatures to be used as input \n",
    "nb_input = len(X.columns)\n",
    "# Add a dense layer\n",
    "model.add(Dense(18, input_dim=nb_input, activation='relu'))\n",
    "# Now add a dropout layer\n",
    "model.add(Dropout(.2,input_shape=(10,)))\n",
    "# Add another dense layer\n",
    "model.add(Dense(8, activation='relu', kernel_regularizer=l2(0.01), bias_regularizer=l2(0.01)))\n",
    "# Now add a dropout layer\n",
    "model.add(Dropout(.2,input_shape=(10,)))\n",
    "\n",
    "# Add the output layer to the model specifying the number of output neurons and activation function\n",
    "model.add(Dense(units=1, activation=\"sigmoid\"))"
   ]
  },
  {
   "cell_type": "code",
   "execution_count": null,
   "metadata": {},
   "outputs": [],
   "source": [
    "\n",
    "# Compile the Sequential model\n",
    "#model.compile(loss=\"binary_crossentropy\", optimizer=\"adam\", metrics=[\"accuracy\"])\n",
    "\n",
    "model.compile(loss=\"binary_crossentropy\", optimizer=\"adam\", metrics=[\"accuracy\"])"
   ]
  },
  {
   "cell_type": "code",
   "execution_count": null,
   "metadata": {},
   "outputs": [],
   "source": [
    "# Summarise the model\n",
    "model.summary()"
   ]
  },
  {
   "cell_type": "code",
   "execution_count": null,
   "metadata": {},
   "outputs": [],
   "source": [
    "# Add in validation loss to select the number of epochs\n",
    "# Fit the model\n",
    "number_of_epochs = 10\n",
    "model.fit(X_train,y_train, \n",
    "                    epochs=number_of_epochs,\n",
    "                    batch_size=10,\n",
    "                    #validation_split=0.2,\n",
    "                    shuffle=True)"
   ]
  },
  {
   "cell_type": "markdown",
   "metadata": {},
   "source": [
    "### Step 2: Evaluate the model using the test data to determine its loss and accuracy."
   ]
  },
  {
   "cell_type": "code",
   "execution_count": null,
   "metadata": {},
   "outputs": [],
   "source": [
    "# Evaluate the model loss and accuracy metrics using the evaluate method and the test data\n",
    "model_loss, model_accuracy = model.evaluate(X_test_scaled,y_test,verbose=2)\n",
    "\n",
    "# Display the model loss and accuracy results\n",
    "print(f\"Loss: {model_loss}, Accuracy: {model_accuracy}\")"
   ]
  },
  {
   "cell_type": "markdown",
   "metadata": {},
   "source": [
    "### ML Model selection\n",
    "---"
   ]
  },
  {
   "cell_type": "code",
   "execution_count": null,
   "metadata": {},
   "outputs": [],
   "source": [
    "### Choose the best ML model for our set : \n",
    "from sklearn.model_selection import RepeatedStratifiedKFold, StratifiedKFold\n",
    "from sklearn.model_selection import KFold\n",
    "from sklearn.model_selection import train_test_split\n",
    "from sklearn.model_selection import cross_val_score\n",
    "from sklearn.pipeline import Pipeline\n",
    "from sklearn.tree import DecisionTreeClassifier\n",
    "from sklearn.metrics import classification_report\n",
    "from sklearn.tree import DecisionTreeRegressor\n",
    "from sklearn.ensemble import RandomForestClassifier\n",
    "from sklearn.ensemble import ExtraTreesClassifier \n",
    "from sklearn.ensemble import AdaBoostClassifier \n",
    "from sklearn.ensemble import GradientBoostingClassifier\n",
    "from sklearn.neighbors import KNeighborsClassifier\n",
    "from sklearn.ensemble import RandomForestRegressor\n",
    "from sklearn.metrics import accuracy_score\n",
    "from sklearn.model_selection import GridSearchCV\n",
    "from sklearn.model_selection import RandomizedSearchCV\n",
    "from sklearn import svm\n",
    "from sklearn.neural_network import MLPClassifier\n",
    "from sklearn.linear_model import LogisticRegression\n",
    "from sklearn.discriminant_analysis import LinearDiscriminantAnalysis\n",
    "#from sklearn.naive_bayes import GaussianN"
   ]
  },
  {
   "cell_type": "code",
   "execution_count": null,
   "metadata": {},
   "outputs": [],
   "source": [
    "def model_selection(X,Y):\n",
    "    seed = 7\n",
    "    models = []\n",
    "    models.append(('LogisticRegression', LogisticRegression(random_state=seed)))\n",
    "    models.append(('LinearDiscriminantAnalysis', LinearDiscriminantAnalysis()))\n",
    "    models.append(('KNeighborsClassifier', KNeighborsClassifier()))\n",
    "    models.append(('DecisionTreeClassifier', DecisionTreeClassifier()))\n",
    "    #models.append(('GaussianNB', GaussianNB()))\n",
    "    models.append(('RandomForestClassifier', RandomForestClassifier()))\n",
    "    models.append(('ExtraTreesClassifier',ExtraTreesClassifier(random_state=seed)))\n",
    "    models.append(('AdaBoostClassifier',AdaBoostClassifier(DecisionTreeClassifier(random_state=seed),random_state=seed,learning_rate=0.1)))\n",
    "    models.append(('SVM',svm.SVC(random_state=seed)))\n",
    "    models.append(('GradientBoostingClassifier',GradientBoostingClassifier(random_state=seed)))\n",
    "    models.append(('XGBoost', xgb.XGBClassifier(random_state=seed)))\n",
    "    #models.append(('MLPClassifier',MLPClassifier(random_state=seed)))\n",
    "    # evaluate each model in turn\n",
    "    results = []\n",
    "    names = []\n",
    "    scoring = 'accuracy'\n",
    "    \n",
    "    for name, model in models:\n",
    "        kfold = KFold(n_splits=10, shuffle=True, random_state=seed) \n",
    "        cv_results = cross_val_score(model, X, Y, cv=kfold, scoring=scoring)\n",
    "        results.append(cv_results)\n",
    "        names.append(name)\n",
    "        msg = \"%s: %f (%f)\" % (name, cv_results.mean(), cv_results.std())\n",
    "        print(msg) \n",
    "    return results, names\n",
    " "
   ]
  },
  {
   "cell_type": "code",
   "execution_count": null,
   "metadata": {},
   "outputs": [],
   "source": [
    "model_selection(X,y)"
   ]
  },
  {
   "cell_type": "code",
   "execution_count": null,
   "metadata": {},
   "outputs": [],
   "source": []
  }
 ],
 "metadata": {
  "kernelspec": {
   "display_name": "Python 3 (ipykernel)",
   "language": "python",
   "name": "python3"
  },
  "language_info": {
   "codemirror_mode": {
    "name": "ipython",
    "version": 3
   },
   "file_extension": ".py",
   "mimetype": "text/x-python",
   "name": "python",
   "nbconvert_exporter": "python",
   "pygments_lexer": "ipython3",
   "version": "3.10.9"
  },
  "vscode": {
   "interpreter": {
    "hash": "2957857b4ea91bd8abe63bb5cad068888da45f12cc6cfc3e8cdc71caa8cbd16f"
   }
  }
 },
 "nbformat": 4,
 "nbformat_minor": 4
}
